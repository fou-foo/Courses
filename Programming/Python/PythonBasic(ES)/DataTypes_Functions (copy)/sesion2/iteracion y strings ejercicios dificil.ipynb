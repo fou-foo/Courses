{
 "cells": [
  {
   "cell_type": "markdown",
   "metadata": {},
   "source": [
    "### Ejercicio 1:\n",
    "Implemente una función que busque un substring en otro por ejemplo 'ram' es una subcadena de 'Programar con python'\n"
   ]
  },
  {
   "cell_type": "code",
   "execution_count": null,
   "metadata": {
    "collapsed": true
   },
   "outputs": [],
   "source": []
  },
  {
   "cell_type": "markdown",
   "metadata": {},
   "source": [
    "### Ejercicio 2\n",
    "Escriba una función que reciba un string y regrese el mismo string escrito al reves usando un ciclo. \n",
    "**hint: usa el método 'append' de las listas, comienza con una lista vacía'**"
   ]
  },
  {
   "cell_type": "code",
   "execution_count": null,
   "metadata": {
    "collapsed": true
   },
   "outputs": [],
   "source": []
  },
  {
   "cell_type": "markdown",
   "metadata": {},
   "source": [
    "### Ejercicio 3\n",
    "Escriba una función que reciba un string y regrese una lista con las letras y el numero de ocurrencias de sus componentes\n",
    "Por ejemplo para el string 'foo fighters', la función debe regresar la lista '['f', 2, 'o', 2, ' ', 1, 'i', 1, 'g', 1, 'h', 1, 't', 1, 'e', 1, 'r', 1, 's', 1]'\n",
    "\n",
    "**Hint primero guarde las letras unicas del string y luego cuenta las ocurrencias**\n",
    "\n",
    "# Quitar codigo\n",
    "<code>\n",
    "def conteo(string):\n",
    "    copia = ''\n",
    "    for i in string:\n",
    "        if i not in copia:\n",
    "            copia = copia + i\n",
    "    conteo = [0]*len(copia)\n",
    "    for i in string:\n",
    "        if i in copia:\n",
    "            conteo[copia.index(i)] = conteo[copia.index(i)] + 1\n",
    "    out = ['0']*2*len(copia)\n",
    "    for i in range(len(copia)):\n",
    "        out[2*i] = copia[i]\n",
    "        out[2*i + 1] = conteo[i]\n",
    "    return (out)\n",
    " </code>"
   ]
  },
  {
   "cell_type": "code",
   "execution_count": 67,
   "metadata": {
    "collapsed": true
   },
   "outputs": [],
   "source": [
    "def conteo(string):\n",
    "    copia = ''\n",
    "    for i in string:\n",
    "        if i not in copia:\n",
    "            copia = copia + i\n",
    "    conteo = [0]*len(copia)\n",
    "    for i in string:\n",
    "        if i in copia:\n",
    "            conteo[copia.index(i)] = conteo[copia.index(i)] + 1\n",
    "    out = ['0']*2*len(copia)\n",
    "    for i in range(len(copia)):\n",
    "        out[2*i] = copia[i]\n",
    "        out[2*i + 1] = conteo[i]\n",
    "    return (out)"
   ]
  },
  {
   "cell_type": "code",
   "execution_count": null,
   "metadata": {
    "collapsed": true
   },
   "outputs": [],
   "source": []
  }
 ],
 "metadata": {
  "kernelspec": {
   "display_name": "Python 3",
   "language": "python",
   "name": "python3"
  },
  "language_info": {
   "codemirror_mode": {
    "name": "ipython",
    "version": 3
   },
   "file_extension": ".py",
   "mimetype": "text/x-python",
   "name": "python",
   "nbconvert_exporter": "python",
   "pygments_lexer": "ipython3",
   "version": "3.6.3"
  }
 },
 "nbformat": 4,
 "nbformat_minor": 2
}
