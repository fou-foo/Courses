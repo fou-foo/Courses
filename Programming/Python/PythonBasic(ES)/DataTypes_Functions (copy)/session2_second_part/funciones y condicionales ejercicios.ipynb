{
 "cells": [
  {
   "cell_type": "markdown",
   "metadata": {},
   "source": [
    "### Ejercicio 1\n",
    "Construir una  función que utilice la función <code> pow(a,b) </code> y retorne 'sí' en caso de que el número sea divisible entre 6, 'no' en caso de que no lo sea y en caso de que 'b' sea menor a la unidad también lo indique."
   ]
  },
  {
   "cell_type": "code",
   "execution_count": null,
   "metadata": {
    "collapsed": true
   },
   "outputs": [],
   "source": []
  },
  {
   "cell_type": "markdown",
   "metadata": {
    "collapsed": true
   },
   "source": [
    "### Ejericio 2\n",
    "El último teorema de Fermat. Implemente una función que decida si tres número enteros satisfacen el teorema, considere como parámetro extra 'n'\n",
    "<code> Fermat(x, y, z, n) </code>\n"
   ]
  },
  {
   "cell_type": "code",
   "execution_count": null,
   "metadata": {
    "collapsed": true
   },
   "outputs": [],
   "source": []
  },
  {
   "cell_type": "markdown",
   "metadata": {},
   "source": [
    "### Ejericio 3\n",
    "Implemente una función recursiva para calcular el factorial de un numero entero.\n",
    "$ n! = n*(n-1)*(n-2)*...(1)$\n"
   ]
  },
  {
   "cell_type": "code",
   "execution_count": null,
   "metadata": {
    "collapsed": true
   },
   "outputs": [],
   "source": []
  }
 ],
 "metadata": {
  "kernelspec": {
   "display_name": "Python 3",
   "language": "python",
   "name": "python3"
  },
  "language_info": {
   "codemirror_mode": {
    "name": "ipython",
    "version": 3
   },
   "file_extension": ".py",
   "mimetype": "text/x-python",
   "name": "python",
   "nbconvert_exporter": "python",
   "pygments_lexer": "ipython3",
   "version": "3.6.3"
  }
 },
 "nbformat": 4,
 "nbformat_minor": 2
}
