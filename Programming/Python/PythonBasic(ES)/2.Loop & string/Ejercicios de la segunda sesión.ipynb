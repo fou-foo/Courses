{
 "cells": [
  {
   "cell_type": "markdown",
   "metadata": {},
   "source": [
    "# Ejercicio 1.a)\n",
    "\n",
    "## Uso del ciclo 'for'\n",
    "\n",
    "Uno de los temas de la segunda sesión fue el ciclo ‘for’ cuya sintaxis es:\n",
    "\n",
    "<code>\n",
    "for elementoDeLista in Lista:\n",
    "    statement1\n",
    "    statement2\n",
    "    ...\n",
    "</code>\n",
    "\n",
    "**El ejercicio consiste en calcular la suma de los primeros 1,000 números desde el 1 hasta el 1,000 usando un ciclo ‘for’. **\n",
    "\n",
    "Ejemplo las suma de los primeros 10 números del  1 al 10 es:\n",
    "\n",
    "<code> \n",
    "1 + 2 +3 + 4 + 5 + 6 + 7 + 8 + 9 +10 = 55  \n",
    "</code>\n",
    "\n"
   ]
  },
  {
   "cell_type": "code",
   "execution_count": null,
   "metadata": {},
   "outputs": [],
   "source": [
    "\n"
   ]
  },
  {
   "cell_type": "markdown",
   "metadata": {},
   "source": [
    "# Ejercicio 1.b)\n",
    "\n",
    "## Uso del ciclo 'while' \n",
    "El ejercicio es muy parecido al anterior.\n",
    "\n",
    "Otro de los temas de la segunda sesión fue el ciclo ‘while’ cuya sintaxis es:\n",
    "\n",
    "<code>\n",
    "contador = 1\n",
    "while (contador):                   \n",
    "    statement1\n",
    "    statement2\n",
    "    contador = contador +1\n",
    "    ...\n",
    "</code>\n",
    "\n",
    "**El ejercicio consiste en calcular la suma de los primeros 1,000 números desde el 1 hasta el 1,000 usando un ciclo ‘while’. **"
   ]
  },
  {
   "cell_type": "code",
   "execution_count": null,
   "metadata": {},
   "outputs": [],
   "source": []
  },
  {
   "cell_type": "markdown",
   "metadata": {},
   "source": [
    "# Ejercicio 2\n",
    "\n",
    "Este ejercicio puedes hacerlo con ‘for’ o ‘while’\n",
    "\n",
    "El ejercicio consiste en determinar **¿cuántas veces puedes multiplicar el número 2 (por sí mismo) hasta que el resultado sea mayor a 10,000,000 ? **\n",
    "\n",
    "Por ejemplo el número 2 puede multiplicarse **3 veces** por sí mismo antes de ser mayor a 10 porque: <code> 2**3 = 8 </code>\n",
    "\n",
    " Y por lado si multiplicamos el 2, cuatro veces consigo mismo, tenemos: <code> 2**4 = 16 </code>\n",
    "\n",
    "Otro ejemplo: el número 2 puede multiplicarse **6 veces** consigo mismo antes de ser mayor a 100 porque:\n",
    "\n",
    "<code>\n",
    "2**6 = 64\n",
    "</code>\n",
    "\n",
    " Y por lado si multiplicamos el 2, siete veces consigo mismo, tenemos\n",
    "\n",
    "<code>\n",
    "2*7 = 128\n",
    "</code>\n",
    "\n"
   ]
  },
  {
   "cell_type": "code",
   "execution_count": 10,
   "metadata": {},
   "outputs": [],
   "source": []
  }
 ],
 "metadata": {
  "kernelspec": {
   "display_name": "Python 3",
   "language": "python",
   "name": "python3"
  },
  "language_info": {
   "codemirror_mode": {
    "name": "ipython",
    "version": 3
   },
   "file_extension": ".py",
   "mimetype": "text/x-python",
   "name": "python",
   "nbconvert_exporter": "python",
   "pygments_lexer": "ipython3",
   "version": "3.6.3"
  }
 },
 "nbformat": 4,
 "nbformat_minor": 2
}
