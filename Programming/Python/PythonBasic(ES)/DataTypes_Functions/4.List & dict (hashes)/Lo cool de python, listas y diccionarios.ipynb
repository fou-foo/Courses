{
 "cells": [
  {
   "cell_type": "markdown",
   "metadata": {},
   "source": [
    "# Lo nuevo de python para el mundo "
   ]
  },
  {
   "cell_type": "markdown",
   "metadata": {},
   "source": [
    "## Lista\n",
    "<code> list </code> := Tipo de dato que es una secuencia de valores \n",
    "\n",
    "\n",
    "!!No hay restricción en los tipos de datos que constituyen a la lista, incluso la definición es recursiva! **a.k.a. nested**\n",
    "\n",
    "Llamamos elements o items a sus miembros\n",
    "\n",
    "Las listas son mutables!"
   ]
  },
  {
   "cell_type": "code",
   "execution_count": 1,
   "metadata": {},
   "outputs": [
    {
     "name": "stdout",
     "output_type": "stream",
     "text": [
      "[1.0, 2, 'Justice', 'Cartel de santa', 'The mars volta', 'At the drive-in', 'a']\n",
      "[1.0, ['foo fighters', 'foo fighters', 'foo fighters', 'foo fighters', 'foo fighters', 'foo fighters', 'foo fighters', 'foo fighters', 'foo fighters', 'foo fighters'], 'Justice', 'Cartel de santa', 'The mars volta', 'At the drive-in', 'a']\n"
     ]
    }
   ],
   "source": [
    "a1 = [1., 2, 'Justice', 'Cartel de santa', 'The mars volta', 'At the drive-in']\n",
    "a2 = a1 + ['a']\n",
    "print(a2)\n",
    "a2[1] = ['foo fighters']*10\n",
    "print(a2)"
   ]
  },
  {
   "cell_type": "markdown",
   "metadata": {},
   "source": [
    "Existe un caso particular de lista: la vacia  **como te resultaria útil**?"
   ]
  },
  {
   "cell_type": "code",
   "execution_count": 2,
   "metadata": {},
   "outputs": [
    {
     "name": "stdout",
     "output_type": "stream",
     "text": [
      "[]\n"
     ]
    }
   ],
   "source": [
    "a = []\n",
    "print(a)\n"
   ]
  },
  {
   "cell_type": "markdown",
   "metadata": {},
   "source": [
    "El acceso a sus elementos es igual que como vimos con los strings"
   ]
  },
  {
   "cell_type": "code",
   "execution_count": 3,
   "metadata": {},
   "outputs": [
    {
     "name": "stdout",
     "output_type": "stream",
     "text": [
      "a\n",
      "[1.0, ['foo fighters', 'foo fighters', 'foo fighters', 'foo fighters', 'foo fighters', 'foo fighters', 'foo fighters', 'foo fighters', 'foo fighters', 'foo fighters'], 'Justice', 'Cartel de santa', 'The mars volta']\n",
      "['a', 'At the drive-in', 'The mars volta', 'Cartel de santa', 'Justice', ['foo fighters', 'foo fighters', 'foo fighters', 'foo fighters', 'foo fighters', 'foo fighters', 'foo fighters', 'foo fighters', 'foo fighters', 'foo fighters'], 1.0]\n"
     ]
    }
   ],
   "source": [
    "print(a2[-1]) #solo enteros pero pueden ser negativos\n",
    "print(a2[:-2]) #incluye el slicing!!!!!!\n",
    "print(a2[::-1])  #al reves"
   ]
  },
  {
   "cell_type": "markdown",
   "metadata": {},
   "source": [
    "El operador <code> in </code> sirve !!!!! y de hecho esa es la magia de los <code> for </code> y  <code> range</code>"
   ]
  },
  {
   "cell_type": "code",
   "execution_count": 4,
   "metadata": {},
   "outputs": [
    {
     "data": {
      "text/plain": [
       "True"
      ]
     },
     "execution_count": 4,
     "metadata": {},
     "output_type": "execute_result"
    }
   ],
   "source": [
    "'Justice' in a2 "
   ]
  },
  {
   "cell_type": "code",
   "execution_count": 5,
   "metadata": {},
   "outputs": [
    {
     "data": {
      "text/plain": [
       "False"
      ]
     },
     "execution_count": 5,
     "metadata": {},
     "output_type": "execute_result"
    }
   ],
   "source": [
    "'Los super elegantes' in a2"
   ]
  },
  {
   "cell_type": "markdown",
   "metadata": {},
   "source": [
    "Al igual que los strings el <code> +</code> y el <code>*</code> estan sobrecargados"
   ]
  },
  {
   "cell_type": "code",
   "execution_count": 6,
   "metadata": {},
   "outputs": [
    {
     "data": {
      "text/plain": [
       "[10, 10, 10, 10, 10, 10, 10, 10, 10, 10]"
      ]
     },
     "execution_count": 6,
     "metadata": {},
     "output_type": "execute_result"
    }
   ],
   "source": [
    "[10]*10"
   ]
  },
  {
   "cell_type": "code",
   "execution_count": 7,
   "metadata": {},
   "outputs": [
    {
     "data": {
      "text/plain": [
       "[10, 10, 10, 10, 10, 10, 10, 10, 10, 10, 'The mars volta']"
      ]
     },
     "execution_count": 7,
     "metadata": {},
     "output_type": "execute_result"
    }
   ],
   "source": [
    "[10]*10+['The mars volta']"
   ]
  },
  {
   "cell_type": "markdown",
   "metadata": {},
   "source": [
    "Los _métodos_ de las listas son:\n",
    "\n",
    "    * <code> .append(),  .extend(), .sort(), .pop() </code>\n",
    "\n",
    "Las funciones que actuan sobre listas son:\n",
    "\n",
    "    * <code> del </code>\n"
   ]
  },
  {
   "cell_type": "code",
   "execution_count": 28,
   "metadata": {},
   "outputs": [
    {
     "name": "stdout",
     "output_type": "stream",
     "text": [
      "[0.7038451446742064, 0.29592137694004983, 0.31925176968327174, 0.6113153775775136, 0.981753055008241, 0.15149714234241185, 0.43931255522577206, 0.6026594672150305, 0.4510548214715592, 0.7779932121775812]\n"
     ]
    }
   ],
   "source": [
    "a = []\n",
    "import random\n",
    "for i in range(10):\n",
    "    a.append(random.random())\n",
    "bandas = ['The mars volta', 'Sparta', 'At the drive in', 'The strokes']\n",
    "print(a)"
   ]
  },
  {
   "cell_type": "code",
   "execution_count": 29,
   "metadata": {},
   "outputs": [
    {
     "name": "stdout",
     "output_type": "stream",
     "text": [
      "None\n",
      "[0.15149714234241185, 0.29592137694004983, 0.31925176968327174, 0.43931255522577206, 0.4510548214715592, 0.6026594672150305, 0.6113153775775136, 0.7038451446742064, 0.7779932121775812, 0.981753055008241]\n"
     ]
    }
   ],
   "source": [
    "print(a.sort())                                                 #que cambio ?\n",
    "print(a)"
   ]
  },
  {
   "cell_type": "code",
   "execution_count": 30,
   "metadata": {},
   "outputs": [
    {
     "name": "stdout",
     "output_type": "stream",
     "text": [
      "[0.15149714234241185, 0.29592137694004983, 0.31925176968327174, 0.43931255522577206, 0.4510548214715592, 0.6026594672150305, 0.6113153775775136, 0.7038451446742064, 0.7779932121775812, 0.981753055008241, 'The mars volta', 'Sparta', 'At the drive in', 'The strokes']\n"
     ]
    }
   ],
   "source": [
    "a.extend(bandas)\n",
    "print(a)"
   ]
  },
  {
   "cell_type": "code",
   "execution_count": 31,
   "metadata": {},
   "outputs": [
    {
     "data": {
      "text/plain": [
       "['At the drive in', 'Sparta', 'The mars volta', 'The strokes']"
      ]
     },
     "execution_count": 31,
     "metadata": {},
     "output_type": "execute_result"
    }
   ],
   "source": [
    "bandas.sort()\n",
    "bandas                              #que es un orden ?, orden lexicografico "
   ]
  },
  {
   "cell_type": "markdown",
   "metadata": {},
   "source": [
    "### Map, Filter and Reduce (chafita)"
   ]
  },
  {
   "cell_type": "code",
   "execution_count": 36,
   "metadata": {},
   "outputs": [],
   "source": [
    "def suma_all(t):\n",
    "    '''\n",
    "    el acumulador es parte escencial del reduce: consiste en COMBINAR secuencias de elementos en otros\n",
    "    '''\n",
    "    total = 0\n",
    "    for x in t:\n",
    "        total += x                     #total es el acumulador \n",
    "    return total"
   ]
  },
  {
   "cell_type": "code",
   "execution_count": 37,
   "metadata": {},
   "outputs": [
    {
     "data": {
      "text/plain": [
       "45"
      ]
     },
     "execution_count": 37,
     "metadata": {},
     "output_type": "execute_result"
    }
   ],
   "source": [
    "suma_all(range(10))"
   ]
  },
  {
   "cell_type": "code",
   "execution_count": 47,
   "metadata": {
    "collapsed": true
   },
   "outputs": [],
   "source": [
    "def mayus_all(t):\n",
    "    res = []\n",
    "    for s in t:\n",
    "        res.append(str(s).upper())                 #aplicar una funcion es el chiste del MAP\n",
    "    return res"
   ]
  },
  {
   "cell_type": "code",
   "execution_count": 48,
   "metadata": {},
   "outputs": [
    {
     "data": {
      "text/plain": [
       "['AT THE DRIVE IN', 'SPARTA', 'THE MARS VOLTA', 'THE STROKES']"
      ]
     },
     "execution_count": 48,
     "metadata": {},
     "output_type": "execute_result"
    }
   ],
   "source": [
    "mayus_all(bandas)"
   ]
  },
  {
   "cell_type": "code",
   "execution_count": 49,
   "metadata": {},
   "outputs": [],
   "source": [
    "def only_upper(t):\n",
    "    res = []\n",
    "    for word in t:      \n",
    "        for letra in word:\n",
    "            if letra != letra.lower():\n",
    "                res.append(letra)                             #un filtro chingon como en php y el .ForEach\n",
    "    return res"
   ]
  },
  {
   "cell_type": "code",
   "execution_count": 50,
   "metadata": {},
   "outputs": [
    {
     "data": {
      "text/plain": [
       "['A', 'S', 'T', 'T']"
      ]
     },
     "execution_count": 50,
     "metadata": {},
     "output_type": "execute_result"
    }
   ],
   "source": [
    "only_upper(bandas)"
   ]
  },
  {
   "cell_type": "code",
   "execution_count": 51,
   "metadata": {},
   "outputs": [],
   "source": [
    "numeros  = mayus_all(range(10))"
   ]
  },
  {
   "cell_type": "code",
   "execution_count": 53,
   "metadata": {},
   "outputs": [
    {
     "data": {
      "text/plain": [
       "['0', '1', '2', '3', '4', '5', '6', '7', '8', '9']"
      ]
     },
     "execution_count": 53,
     "metadata": {},
     "output_type": "execute_result"
    }
   ],
   "source": [
    "numeros"
   ]
  },
  {
   "cell_type": "code",
   "execution_count": 54,
   "metadata": {
    "collapsed": true
   },
   "outputs": [],
   "source": [
    "del numeros[1]"
   ]
  },
  {
   "cell_type": "code",
   "execution_count": 55,
   "metadata": {},
   "outputs": [
    {
     "data": {
      "text/plain": [
       "['0', '2', '3', '4', '5', '6', '7', '8', '9']"
      ]
     },
     "execution_count": 55,
     "metadata": {},
     "output_type": "execute_result"
    }
   ],
   "source": [
    "numeros"
   ]
  },
  {
   "cell_type": "code",
   "execution_count": 56,
   "metadata": {},
   "outputs": [
    {
     "data": {
      "text/plain": [
       "'9'"
      ]
     },
     "execution_count": 56,
     "metadata": {},
     "output_type": "execute_result"
    }
   ],
   "source": [
    "numeros.pop()"
   ]
  },
  {
   "cell_type": "code",
   "execution_count": 57,
   "metadata": {},
   "outputs": [
    {
     "data": {
      "text/plain": [
       "['0', '2', '3', '4', '5', '6', '7', '8']"
      ]
     },
     "execution_count": 57,
     "metadata": {},
     "output_type": "execute_result"
    }
   ],
   "source": [
    "numeros"
   ]
  },
  {
   "cell_type": "code",
   "execution_count": 58,
   "metadata": {
    "collapsed": true
   },
   "outputs": [],
   "source": [
    "numeros.remove('5')"
   ]
  },
  {
   "cell_type": "code",
   "execution_count": 59,
   "metadata": {},
   "outputs": [
    {
     "data": {
      "text/plain": [
       "['0', '2', '3', '4', '6', '7', '8']"
      ]
     },
     "execution_count": 59,
     "metadata": {},
     "output_type": "execute_result"
    }
   ],
   "source": [
    "numeros"
   ]
  },
  {
   "cell_type": "code",
   "execution_count": null,
   "metadata": {
    "collapsed": true
   },
   "outputs": [],
   "source": []
  }
 ],
 "metadata": {
  "kernelspec": {
   "display_name": "Python 3",
   "language": "python",
   "name": "python3"
  },
  "language_info": {
   "codemirror_mode": {
    "name": "ipython",
    "version": 3
   },
   "file_extension": ".py",
   "mimetype": "text/x-python",
   "name": "python",
   "nbconvert_exporter": "python",
   "pygments_lexer": "ipython3",
   "version": "3.6.3"
  }
 },
 "nbformat": 4,
 "nbformat_minor": 2
}
