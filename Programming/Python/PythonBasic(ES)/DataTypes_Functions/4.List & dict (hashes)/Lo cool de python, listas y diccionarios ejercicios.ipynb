{
 "cells": [
  {
   "cell_type": "markdown",
   "metadata": {},
   "source": [
    "### Ejercicio 1\n",
    "\n",
    "Escribe una función llamada suma_listas que toma una lista de listas de enteros y suma los elementos de todas las \n",
    "listas anidadas."
   ]
  },
  {
   "cell_type": "code",
   "execution_count": null,
   "metadata": {
    "collapsed": true
   },
   "outputs": [],
   "source": []
  },
  {
   "cell_type": "markdown",
   "metadata": {},
   "source": [
    "### Ejercicio 2: Emulando R\n",
    "\n",
    "En *R* existe una función que se llama <code> cumsum() </code>  que hace lo siguiente:\n",
    " [...] cumsum() que toma una lista de números y devuelve la suma acumulativa; es decir, una nueva lista donde el i-ésimo elemento es la suma de los primeros elementos i + 1 de la lista original por ejemplo\n",
    " \n",
    "<code>\n",
    "numeros  = [1, 10, 50, 90, 4, 1]\n",
    "cumsum(numeros)\n",
    "[1,  11,  61, 151, 155, 156] \n",
    "</code>\n",
    "\n",
    "Tu labor es hacer lo mismo para python *hint: usa el inciso anterior*"
   ]
  },
  {
   "cell_type": "code",
   "execution_count": null,
   "metadata": {
    "collapsed": true
   },
   "outputs": [],
   "source": []
  },
  {
   "cell_type": "code",
   "execution_count": null,
   "metadata": {
    "collapsed": true
   },
   "outputs": [],
   "source": []
  },
  {
   "cell_type": "code",
   "execution_count": null,
   "metadata": {
    "collapsed": true
   },
   "outputs": [],
   "source": []
  },
  {
   "cell_type": "code",
   "execution_count": null,
   "metadata": {
    "collapsed": true
   },
   "outputs": [],
   "source": []
  }
 ],
 "metadata": {
  "kernelspec": {
   "display_name": "Python 3",
   "language": "python",
   "name": "python3"
  },
  "language_info": {
   "codemirror_mode": {
    "name": "ipython",
    "version": 3
   },
   "file_extension": ".py",
   "mimetype": "text/x-python",
   "name": "python",
   "nbconvert_exporter": "python",
   "pygments_lexer": "ipython3",
   "version": "3.6.3"
  }
 },
 "nbformat": 4,
 "nbformat_minor": 2
}
