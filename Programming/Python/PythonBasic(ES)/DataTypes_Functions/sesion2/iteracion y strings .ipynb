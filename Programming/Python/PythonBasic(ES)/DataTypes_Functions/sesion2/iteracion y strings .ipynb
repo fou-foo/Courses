{
 "cells": [
  {
   "cell_type": "markdown",
   "metadata": {},
   "source": [
    "### Iteración\n",
    "\n",
    "Consiste en realizar los mismos statements con pequeñas diferencias repetitivamente.\n",
    "La sintaxis del bloque para indicar repeticion si no se conoce el número de veces que se debe de repetir es\n",
    "\n",
    "<code>\n",
    "contador = 1\n",
    "while (contador):                  # el statement entre '()' debe de ser un entero > 0\n",
    "    statement1\n",
    "    statement2\n",
    "    contador = contador +1\n",
    "    ...\n",
    "</code>\n",
    "    \n",
    "A veces es util usar la palabra reservada 'break' para salir del while (perro en general es una mala practica), ejemplo:\n"
   ]
  },
  {
   "cell_type": "code",
   "execution_count": null,
   "metadata": {},
   "outputs": [
    {
     "name": "stdout",
     "output_type": "stream",
     "text": [
      "Dentro del if\n",
      "5\n"
     ]
    }
   ],
   "source": [
    "bandera = False\n",
    "contador = 1\n",
    "usuario = 'Antonio'\n",
    "while (contador == 24): # el statement entre '()' debe de ser un entero > 0\n",
    "    contador = contador + 1\n",
    "    usuario = tabla['usuario'][contador +1]\n",
    "    if( usuario == 'Hector' ):\n",
    "        print(usuario + ' está en la posición ' + str(contador))\n",
    "        bandera = True\n",
    "    "
   ]
  },
  {
   "cell_type": "code",
   "execution_count": 11,
   "metadata": {},
   "outputs": [
    {
     "data": {
      "text/plain": [
       "True"
      ]
     },
     "execution_count": 11,
     "metadata": {},
     "output_type": "execute_result"
    }
   ],
   "source": [
    "booleano = True      \n",
    "not (booleano == False)"
   ]
  },
  {
   "cell_type": "code",
   "execution_count": 2,
   "metadata": {},
   "outputs": [
    {
     "name": "stdout",
     "output_type": "stream",
     "text": [
      "estoy leyendo245.1\n",
      "245.1\n",
      "<class 'float'>\n",
      "estoy leyendo12.4\n",
      "12.4\n",
      "<class 'float'>\n",
      "estoy leyendo1.0\n",
      "1.0\n",
      "<class 'float'>\n",
      "estoy leyendo.22\n",
      "0.22\n",
      "<class 'float'>\n",
      "estoy leyendo'Anita'\n"
     ]
    },
    {
     "ename": "ValueError",
     "evalue": "could not convert string to float: \"'Anita'\"",
     "output_type": "error",
     "traceback": [
      "\u001b[0;31m---------------------------------------------------------------------------\u001b[0m",
      "\u001b[0;31mValueError\u001b[0m                                Traceback (most recent call last)",
      "\u001b[0;32m<ipython-input-2-b4fb3dc2e161>\u001b[0m in \u001b[0;36m<module>\u001b[0;34m()\u001b[0m\n\u001b[1;32m      1\u001b[0m \u001b[0;32mwhile\u001b[0m \u001b[0;34m(\u001b[0m\u001b[0;32mTrue\u001b[0m\u001b[0;34m)\u001b[0m\u001b[0;34m:\u001b[0m\u001b[0;34m\u001b[0m\u001b[0m\n\u001b[1;32m      2\u001b[0m     \u001b[0mline\u001b[0m \u001b[0;34m=\u001b[0m \u001b[0minput\u001b[0m\u001b[0;34m(\u001b[0m\u001b[0;34m'estoy leyendo'\u001b[0m\u001b[0;34m)\u001b[0m\u001b[0;34m\u001b[0m\u001b[0m\n\u001b[0;32m----> 3\u001b[0;31m     \u001b[0mnumero\u001b[0m \u001b[0;34m=\u001b[0m \u001b[0mfloat\u001b[0m\u001b[0;34m(\u001b[0m\u001b[0mline\u001b[0m\u001b[0;34m)\u001b[0m\u001b[0;34m\u001b[0m\u001b[0m\n\u001b[0m\u001b[1;32m      4\u001b[0m     \u001b[0;32mif\u001b[0m \u001b[0mnumero\u001b[0m \u001b[0;34m!=\u001b[0m \u001b[0;34m' '\u001b[0m\u001b[0;34m:\u001b[0m \u001b[0;31m#string vacio # != indica diferente, lo opouesto a ==\u001b[0m\u001b[0;34m\u001b[0m\u001b[0m\n\u001b[1;32m      5\u001b[0m         \u001b[0mprint\u001b[0m\u001b[0;34m(\u001b[0m\u001b[0mnumero\u001b[0m\u001b[0;34m)\u001b[0m\u001b[0;34m\u001b[0m\u001b[0m\n",
      "\u001b[0;31mValueError\u001b[0m: could not convert string to float: \"'Anita'\""
     ]
    }
   ],
   "source": [
    "while (True):\n",
    "    line = input('estoy leyendo')\n",
    "    numero = float(line)\n",
    "    if numero != ' ': #string vacio # != indica diferente, lo opouesto a ==\n",
    "        print(numero)\n",
    "        print(type(numero))\n",
    "    else:\n",
    "        print(str(line))\n",
    "        print(type(line))\n",
    "        break\n",
    "print('Saliste del while!')"
   ]
  },
  {
   "cell_type": "code",
   "execution_count": 5,
   "metadata": {},
   "outputs": [
    {
     "name": "stdout",
     "output_type": "stream",
     "text": [
      "De reversa \n",
      "9\n",
      "De reversa \n",
      "8\n",
      "De reversa \n",
      "7\n",
      "De reversa \n",
      "6\n",
      "De reversa \n",
      "5\n",
      "De reversa \n",
      "4\n",
      "De reversa \n",
      "3\n",
      "De reversa \n",
      "2\n",
      "De reversa \n",
      "1\n",
      "De reversa \n",
      "0\n",
      "Se alcanzo el cero\n"
     ]
    }
   ],
   "source": [
    "contador = 10\n",
    "while(contador > 0):\n",
    "    contador = contador - 1\n",
    "    if( contador < 10 ):\n",
    "        print('De reversa ')\n",
    "        print(str(contador))\n",
    "    if( contador == 0):\n",
    "        print('Se alcanzo el cero')"
   ]
  },
  {
   "cell_type": "markdown",
   "metadata": {},
   "source": [
    "Por otra parte la sintaxis del ciclo de repetición 'for' es \n",
    "\n",
    "<code>\n",
    "for (cosa in lista):\n",
    "    statement1\n",
    "    statement2\n",
    "</code>\n",
    "### esto los hace muy buenos :)\n",
    "'for' se utiliza cuando se conoce de antemano el número de iteraciones o bien sobre que objetos se quiere __iterar__ a \n",
    "diferencia de C donde el for solo sirve para recorrer enteros. Dos ejemplos.\n"
   ]
  },
  {
   "cell_type": "code",
   "execution_count": 43,
   "metadata": {},
   "outputs": [],
   "source": [
    "año = ['Abril', 'Enero', 'Febrero', 'Marzo', 'Julio']\n",
    "patronBusqueda = 'Febrero'"
   ]
  },
  {
   "cell_type": "code",
   "execution_count": 47,
   "metadata": {},
   "outputs": [
    {
     "name": "stdout",
     "output_type": "stream",
     "text": [
      "Posición de la lista: 2\n",
      "letra: Febrero\n",
      "No se encontro\n"
     ]
    }
   ],
   "source": [
    "for x in range(len(año)):\n",
    "    if(año[x] == patronBusqueda):\n",
    "        print('Posición de la lista: ' + str(x))\n",
    "        print('letra: ' + año[x] ) #se puede iterar por letras \n",
    "    if(x==(len(año)-1)):\n",
    "       print('No se encontro')"
   ]
  },
  {
   "cell_type": "code",
   "execution_count": 29,
   "metadata": {},
   "outputs": [
    {
     "name": "stdout",
     "output_type": "stream",
     "text": [
      " El item es: enero\n",
      " Como palabra tiene: 5 caracteres\n",
      " El item es: marzo\n",
      " Como palabra tiene: 5 caracteres\n"
     ]
    }
   ],
   "source": [
    "meses = ['enero', 'febrero', 'marzo', 'y los demas']\n",
    "for i in range(len(meses)): # o se puede iterar por elementos en una lista :D\n",
    "    if( i % 2 == 0): #solo los pares\n",
    "        print(' El item es: ' + meses[i] )\n",
    "        print(' Como palabra tiene: ' + str(len(meses[i])) + ' caracteres' )"
   ]
  },
  {
   "cell_type": "code",
   "execution_count": 31,
   "metadata": {},
   "outputs": [
    {
     "name": "stdout",
     "output_type": "stream",
     "text": [
      "0\n",
      "1\n",
      "2\n",
      "3\n",
      "4\n",
      "5\n",
      "6\n",
      "7\n",
      "8\n",
      "9\n",
      "10\n",
      "11\n",
      "12\n",
      "13\n",
      "14\n",
      "15\n",
      "16\n",
      "17\n",
      "18\n",
      "19\n",
      "20\n",
      "21\n",
      "22\n",
      "23\n",
      "24\n",
      "25\n",
      "26\n",
      "27\n",
      "28\n",
      "29\n",
      "30\n",
      "31\n",
      "32\n",
      "33\n",
      "34\n",
      "35\n",
      "36\n",
      "37\n",
      "38\n",
      "39\n",
      "40\n",
      "41\n",
      "42\n",
      "43\n",
      "44\n",
      "45\n",
      "46\n",
      "47\n",
      "48\n",
      "49\n",
      "50\n",
      "51\n",
      "52\n",
      "53\n",
      "54\n",
      "55\n",
      "56\n",
      "57\n",
      "58\n",
      "59\n",
      "60\n",
      "61\n",
      "62\n",
      "63\n",
      "64\n",
      "65\n",
      "66\n",
      "67\n",
      "68\n",
      "69\n",
      "70\n",
      "71\n",
      "72\n",
      "73\n",
      "74\n",
      "75\n",
      "76\n",
      "77\n",
      "78\n",
      "79\n",
      "80\n",
      "81\n",
      "82\n",
      "83\n",
      "84\n",
      "85\n",
      "86\n",
      "87\n",
      "88\n",
      "89\n",
      "90\n",
      "91\n",
      "92\n",
      "93\n",
      "94\n",
      "95\n",
      "96\n",
      "97\n",
      "98\n",
      "99\n"
     ]
    }
   ],
   "source": [
    "for i in range(100):\n",
    "    print(i) # o puedes iterar sobre secuencias continuas checa los limites\n"
   ]
  },
  {
   "cell_type": "markdown",
   "metadata": {
    "collapsed": true
   },
   "source": [
    "# Strings\n",
    "\n",
    "Los strings son cadenas, a.k.a *arrays* , de caracteres. Como en C.\n",
    "Por lo que puedes acceder a sus caracteres por el **index** en python el primer indice de un arreglo comienza en cero, como en C"
   ]
  },
  {
   "cell_type": "code",
   "execution_count": 53,
   "metadata": {},
   "outputs": [
    {
     "name": "stdout",
     "output_type": "stream",
     "text": [
      "0\n",
      "1\n",
      "2\n",
      "3\n",
      "4\n"
     ]
    }
   ],
   "source": [
    "range(5)\n",
    "for x in range(5):\n",
    "    print(x)"
   ]
  },
  {
   "cell_type": "markdown",
   "metadata": {},
   "source": [
    "# List comprehensions\n",
    "\n",
    "Una característica útil de python es la compresión por lista\n",
    "La sintaxís es corta:\n",
    "\n",
    "<code> *result*  = [*transform*    *iteration*         *filter*     ] </code>"
   ]
  },
  {
   "cell_type": "code",
   "execution_count": 59,
   "metadata": {
    "collapsed": true
   },
   "outputs": [],
   "source": [
    "año = ['Enero','Febrero', 'Marzo']"
   ]
  },
  {
   "cell_type": "code",
   "execution_count": 64,
   "metadata": {},
   "outputs": [
    {
     "name": "stdout",
     "output_type": "stream",
     "text": [
      "['Mes:Enero', 'Mes:Febrero']\n"
     ]
    }
   ],
   "source": [
    "listCompres = [ 'Mes:' + x for x in año if x != 'Marzo' ] #se filtran los pares y sumamos dos\n",
    "print(listCompres)"
   ]
  },
  {
   "cell_type": "markdown",
   "metadata": {},
   "source": [
    "Los **index** solo pueden ser números enteros (hasta negativos)."
   ]
  },
  {
   "cell_type": "code",
   "execution_count": 43,
   "metadata": {},
   "outputs": [
    {
     "name": "stdout",
     "output_type": "stream",
     "text": [
      "o\n",
      "o\n",
      "d\n",
      "HOLA MUNDO\n",
      "1\n"
     ]
    }
   ],
   "source": [
    "a = 'Hola mundo'\n",
    "print(a[-1]) #el ultimo \n",
    "print(a[len(a)-1])\n",
    "print(a[-2]) #el penultimo\n",
    "print(a.upper())\n",
    "print(a.index('o')) #regresa la posición de la primera ocurrencia"
   ]
  },
  {
   "cell_type": "markdown",
   "metadata": {},
   "source": [
    "Algunas funciones utiles sobre strings son:\n",
    "    - 'len()'\n",
    "\n",
    "Algunos métodos de los string son: #diferencia entre método y función \n",
    "    - 'upper'\n",
    "    - 'find()'\n",
    "    - 'index()'"
   ]
  },
  {
   "cell_type": "markdown",
   "metadata": {
    "collapsed": true
   },
   "source": [
    "**slide**\n",
    "Es posible recuperar cubcadenas de un string (o de un arreglo) la sintaxis es la siguiente"
   ]
  },
  {
   "cell_type": "code",
   "execution_count": 68,
   "metadata": {},
   "outputs": [
    {
     "data": {
      "text/plain": [
       "4"
      ]
     },
     "execution_count": 68,
     "metadata": {},
     "output_type": "execute_result"
    }
   ],
   "source": [
    "banda = '123456789'\n",
    "banda.index('5')\n"
   ]
  },
  {
   "cell_type": "markdown",
   "metadata": {},
   "source": [
    "Se puede omitir desde el inicio con ':', dejando vacio el lado izquierdo o derecho\n",
    "o al reves!"
   ]
  },
  {
   "cell_type": "code",
   "execution_count": 70,
   "metadata": {},
   "outputs": [
    {
     "name": "stdout",
     "output_type": "stream",
     "text": [
      "1234\n",
      "456789\n",
      "123456789\n",
      "987654321\n"
     ]
    }
   ],
   "source": [
    "print(banda[:4])\n",
    "print(banda[3:])\n",
    "print(banda[:])\n",
    "print(banda[::-1])\n"
   ]
  },
  {
   "cell_type": "code",
   "execution_count": 44,
   "metadata": {
    "collapsed": true
   },
   "outputs": [],
   "source": [
    "# Definiendo funciones\n",
    "def p(x):\n",
    "    return(print(x))"
   ]
  },
  {
   "cell_type": "markdown",
   "metadata": {},
   "source": [
    "**los strings son inmutables**"
   ]
  },
  {
   "cell_type": "code",
   "execution_count": 52,
   "metadata": {},
   "outputs": [
    {
     "name": "stdout",
     "output_type": "stream",
     "text": [
      "Tercer y cuarto caracter en el string: s\n"
     ]
    },
    {
     "ename": "TypeError",
     "evalue": "'str' object does not support item assignment",
     "output_type": "error",
     "traceback": [
      "\u001b[0;31m---------------------------------------------------------------------------\u001b[0m",
      "\u001b[0;31mTypeError\u001b[0m                                 Traceback (most recent call last)",
      "\u001b[0;32m<ipython-input-52-ec1a2706b148>\u001b[0m in \u001b[0;36m<module>\u001b[0;34m()\u001b[0m\n\u001b[1;32m      2\u001b[0m \u001b[0mprint\u001b[0m\u001b[0;34m(\u001b[0m\u001b[0;34m'Tercer y cuarto caracter en el string: '\u001b[0m \u001b[0;34m+\u001b[0m \u001b[0mstr\u001b[0m\u001b[0;34m(\u001b[0m\u001b[0mbanda\u001b[0m\u001b[0;34m[\u001b[0m\u001b[0;36m3\u001b[0m\u001b[0;34m]\u001b[0m\u001b[0;34m)\u001b[0m\u001b[0;34m)\u001b[0m\u001b[0;34m\u001b[0m\u001b[0m\n\u001b[1;32m      3\u001b[0m \u001b[0;31m#intemos canbiarlo\u001b[0m\u001b[0;34m\u001b[0m\u001b[0;34m\u001b[0m\u001b[0m\n\u001b[0;32m----> 4\u001b[0;31m \u001b[0mbanda\u001b[0m\u001b[0;34m[\u001b[0m\u001b[0;36m3\u001b[0m\u001b[0;34m:\u001b[0m\u001b[0;36m5\u001b[0m\u001b[0;34m]\u001b[0m \u001b[0;34m=\u001b[0m \u001b[0;34m'p'\u001b[0m\u001b[0;34m\u001b[0m\u001b[0m\n\u001b[0m",
      "\u001b[0;31mTypeError\u001b[0m: 'str' object does not support item assignment"
     ]
    }
   ],
   "source": [
    "banda = 'No se alteran posiciones'\n",
    "print('Tercer y cuarto caracter en el string: ' + str(banda[3]))\n",
    "#intemos canbiarlo \n",
    "banda[3:5] = 'p'"
   ]
  },
  {
   "cell_type": "code",
   "execution_count": 53,
   "metadata": {},
   "outputs": [
    {
     "name": "stdout",
     "output_type": "stream",
     "text": [
      "No se alteran posicionesNo se alteran posiciones\n"
     ]
    }
   ],
   "source": [
    "# pero porque lo siguiente es valido ?\n",
    "banda = banda*2\n",
    "print(banda)"
   ]
  },
  {
   "cell_type": "markdown",
   "metadata": {},
   "source": [
    "El slidsing también sirve con listas (una lista puede contener tipos de datos diferentes)."
   ]
  },
  {
   "cell_type": "code",
   "execution_count": null,
   "metadata": {
    "collapsed": true
   },
   "outputs": [],
   "source": [
    "dias = ['lunes', 1, 'martes', 2, 'miercoles', 3]"
   ]
  },
  {
   "cell_type": "code",
   "execution_count": null,
   "metadata": {
    "collapsed": true
   },
   "outputs": [],
   "source": [
    "p(dias[3:])\n",
    "p(dias[::-1])"
   ]
  },
  {
   "cell_type": "markdown",
   "metadata": {},
   "source": [
    "### El operador 'in' "
   ]
  },
  {
   "cell_type": "code",
   "execution_count": 72,
   "metadata": {},
   "outputs": [
    {
     "ename": "SyntaxError",
     "evalue": "invalid syntax (<ipython-input-72-b635071121b4>, line 2)",
     "output_type": "error",
     "traceback": [
      "\u001b[0;36m  File \u001b[0;32m\"<ipython-input-72-b635071121b4>\"\u001b[0;36m, line \u001b[0;32m2\u001b[0m\n\u001b[0;31m    for x not in a:\u001b[0m\n\u001b[0m            ^\u001b[0m\n\u001b[0;31mSyntaxError\u001b[0m\u001b[0;31m:\u001b[0m invalid syntax\n"
     ]
    }
   ],
   "source": [
    "a =[1,2,3]\n",
    "for x in a:\n",
    "    print(x)"
   ]
  },
  {
   "cell_type": "code",
   "execution_count": 54,
   "metadata": {
    "collapsed": true
   },
   "outputs": [],
   "source": [
    "def busqueda(word1, word2):\n",
    "    for i in word1:\n",
    "        if( i in word2): #checa pertenencia\n",
    "            indice = word2.index(i)\n",
    "            p( 'La letra:' + word1[indice]+ ' aparece en ' + word2+ ' en la posición ' +str(indice) )\n",
    "        else:\n",
    "            p( 'La letra:' + i+ ' no aparece en ' + word2 )\n",
    "\n",
    "def busqueda2(word1, word2):\n",
    "    for i in word1:\n",
    "        for j in word2:\n",
    "            if( i == j):\n",
    "                indice = word2.index(i)\n",
    "                p( 'La letra:' + word1[indice]+ ' aparece en ' + word2+ ' en la posición ' +str(indice) )\n",
    "            "
   ]
  },
  {
   "cell_type": "code",
   "execution_count": 55,
   "metadata": {},
   "outputs": [
    {
     "name": "stdout",
     "output_type": "stream",
     "text": [
      "La letra:f no aparece en lo que tu quieras\n",
      "La letra:o aparece en lo que tu quieras en la posición 1\n",
      "La letra:o aparece en lo que tu quieras en la posición 1\n",
      "La letra:f no aparece en lo que tu quieras\n"
     ]
    }
   ],
   "source": [
    "busqueda('foof', 'lo que tu quieras')"
   ]
  },
  {
   "cell_type": "code",
   "execution_count": 56,
   "metadata": {},
   "outputs": [
    {
     "name": "stdout",
     "output_type": "stream",
     "text": [
      "15\n"
     ]
    }
   ],
   "source": [
    "a = 5\n",
    "def suma(x,a):\n",
    "    a = a + x\n",
    "    return(a)\n",
    "a = suma(10, a)\n",
    "p(a)"
   ]
  },
  {
   "cell_type": "markdown",
   "metadata": {},
   "source": [
    "### Algoritmos \n",
    "\n",
    "Encontrar las raices de una función es un problema matemático dificíl. Por ejemplo las dos formas de encontrar en donde vale cero una función, por ejemplo $sen()$ en el intervalo $[1, 6]$.\n",
    "El siguiente algoritmo corre en tiempo logaritmico se llama busqueda binaria:"
   ]
  },
  {
   "cell_type": "code",
   "execution_count": 57,
   "metadata": {
    "collapsed": true
   },
   "outputs": [],
   "source": [
    "def f(x):\n",
    "    import math as matematica\n",
    "    return(matematica.sin(x**2))\n",
    "\n",
    "def biseccion(inf, sup, funcion, iteraciones, error ):\n",
    "    if( funcion(inf) < 0 ):\n",
    "        negativo = inf\n",
    "        positivo = sup\n",
    "    else:\n",
    "        negativo = sup\n",
    "        positivo = inf\n",
    "    x = (positivo + negativo)/2\n",
    "    contador = 0\n",
    "    while( (abs(funcion(x)) > error) or (contador <= iteraciones)):\n",
    "        if(funcion(x) < 0):\n",
    "            negativo = x\n",
    "        else:\n",
    "            positivo = x        \n",
    "        x = (positivo + negativo)/2\n",
    "        contador = contador + 1\n",
    "    return( [ ('x',x) , ('f(x)', funcion(x)), ('iteraciones', contador) ])"
   ]
  },
  {
   "cell_type": "code",
   "execution_count": 58,
   "metadata": {},
   "outputs": [
    {
     "data": {
      "text/plain": [
       "[('x', 1.7724538509055159),\n",
       " ('f(x)', 5.66553889764798e-16),\n",
       " ('iteraciones', 500001)]"
      ]
     },
     "execution_count": 58,
     "metadata": {},
     "output_type": "execute_result"
    }
   ],
   "source": [
    "biseccion(1, 2, f, 500000, .1)"
   ]
  },
  {
   "cell_type": "code",
   "execution_count": null,
   "metadata": {
    "collapsed": true
   },
   "outputs": [],
   "source": []
  }
 ],
 "metadata": {
  "kernelspec": {
   "display_name": "Python 3",
   "language": "python",
   "name": "python3"
  },
  "language_info": {
   "codemirror_mode": {
    "name": "ipython",
    "version": 3
   },
   "file_extension": ".py",
   "mimetype": "text/x-python",
   "name": "python",
   "nbconvert_exporter": "python",
   "pygments_lexer": "ipython3",
   "version": "3.6.3"
  }
 },
 "nbformat": 4,
 "nbformat_minor": 2
}
