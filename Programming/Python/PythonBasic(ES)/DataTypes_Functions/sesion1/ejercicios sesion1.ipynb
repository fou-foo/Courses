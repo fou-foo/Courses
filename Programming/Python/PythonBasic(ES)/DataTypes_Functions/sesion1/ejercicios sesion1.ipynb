{
 "cells": [
  {
   "cell_type": "markdown",
   "metadata": {},
   "source": [
    "#### Ejericio 1\n",
    "Podemos definir un numero negativo en python como sigue:    el signo '-' y el número"
   ]
  },
  {
   "cell_type": "code",
   "execution_count": 5,
   "metadata": {},
   "outputs": [
    {
     "name": "stdout",
     "output_type": "stream",
     "text": [
      "3.14159\n",
      "-3.141517\n"
     ]
    },
    {
     "data": {
      "text/plain": [
       "9.3"
      ]
     },
     "execution_count": 5,
     "metadata": {},
     "output_type": "execute_result"
    }
   ],
   "source": [
    "negativo1 = --3.14159\n",
    "print(negativo1)\n",
    "negativo2 = -3.141517\n",
    "print(negativo2) #notese la diferencia entre '-' y '--'\n",
    "foo ='09.3'\n",
    "float(foo)"
   ]
  },
  {
   "cell_type": "markdown",
   "metadata": {},
   "source": [
    "¿Que pasa sí asignamos una variable de la forma <code> negativo = -- 3.14159 </code> ?\n",
    "\n",
    "¿Que pasa sí asignamos una variable de la forma <code> negativo = 09 </code> ? Un número de tipo 'int' precedido de un cero \n",
    "\n",
    "¿Que pasa sí asignamos una variable de la forma <code> negativo = 09.3 </code> ? Un número 'float' precedido de un cero \n"
   ]
  },
  {
   "cell_type": "code",
   "execution_count": 13,
   "metadata": {},
   "outputs": [
    {
     "name": "stdout",
     "output_type": "stream",
     "text": [
      "9.3\n"
     ]
    }
   ],
   "source": [
    "negativo #= #tipea \n",
    "print(negativo)"
   ]
  },
  {
   "cell_type": "markdown",
   "metadata": {},
   "source": [
    "### Ejercicio 2\n",
    "¿Cuantos segundos tiene un año?"
   ]
  },
  {
   "cell_type": "code",
   "execution_count": 19,
   "metadata": {},
   "outputs": [
    {
     "name": "stdout",
     "output_type": "stream",
     "text": [
      "tiempo en segundos de un año 31536000\n"
     ]
    }
   ],
   "source": [
    "ano = 365 \n",
    "dia = 24\n",
    "hora = 60\n",
    "minuto = 60\n",
    "print('tiempo en segundos de un año ' + (str(ano*dia*hora*minuto))) #recuerda el 'cast'"
   ]
  },
  {
   "cell_type": "markdown",
   "metadata": {},
   "source": [
    "### Ejercicio 3\n",
    "¿ Que pasa si a una cariable <code> foo </code> la inicializamos a 'False' ?\n",
    "\n",
    "y si la inicializamos a 'false' ?"
   ]
  },
  {
   "cell_type": "code",
   "execution_count": 20,
   "metadata": {
    "collapsed": true
   },
   "outputs": [],
   "source": [
    "foo = False & True"
   ]
  },
  {
   "cell_type": "markdown",
   "metadata": {},
   "source": [
    "#### Ejercicio 4\n",
    "Como repetirias $1,000$ veces la palabra 'Hola', en una sola variable sin usar for, ni while "
   ]
  },
  {
   "cell_type": "code",
   "execution_count": null,
   "metadata": {},
   "outputs": [],
   "source": []
  },
  {
   "cell_type": "markdown",
   "metadata": {},
   "source": [
    "### Ejercicio 5\n",
    "\n",
    "¿En python <code> n = 4</code> es correcto ?\n",
    "\n",
    "y <code>  4 = n</code> ? \n",
    "\n",
    "Si hay diferencias explica porque.\n",
    "\n",
    "¿Que pasa con <code> i = j  = 1</code> ?\n"
   ]
  },
  {
   "cell_type": "code",
   "execution_count": 26,
   "metadata": {},
   "outputs": [
    {
     "data": {
      "text/plain": [
       "True"
      ]
     },
     "execution_count": 26,
     "metadata": {},
     "output_type": "execute_result"
    }
   ],
   "source": [
    "foo1 = 9\n",
    "foo2 = 9.0\n",
    "foo1 == foo2\n"
   ]
  },
  {
   "cell_type": "markdown",
   "metadata": {},
   "source": [
    "Dobles asignaciones en una sola linea"
   ]
  },
  {
   "cell_type": "code",
   "execution_count": 27,
   "metadata": {},
   "outputs": [
    {
     "name": "stdout",
     "output_type": "stream",
     "text": [
      "valor de variable i: 1\n",
      "valor de variable j: 2\n"
     ]
    }
   ],
   "source": [
    "i, j = 1,2\n",
    "print('valor de variable i: ' + str(i))\n",
    "print('valor de variable j: ' + str(j))"
   ]
  },
  {
   "cell_type": "markdown",
   "metadata": {
    "collapsed": true
   },
   "source": [
    "### Ejercicio 6\n",
    "¿Cual es la diferencia entre un lenguaje interpretado y uno compilado?\n",
    "\n",
    "¿Cual es la diferencia entre 'correr' un script en bacth vs la consola interprete?"
   ]
  },
  {
   "cell_type": "markdown",
   "metadata": {},
   "source": [
    "Latex $\\alpha^2 =1$"
   ]
  },
  {
   "cell_type": "code",
   "execution_count": null,
   "metadata": {
    "collapsed": true
   },
   "outputs": [],
   "source": []
  }
 ],
 "metadata": {
  "kernelspec": {
   "display_name": "Python 3",
   "language": "python",
   "name": "python3"
  },
  "language_info": {
   "codemirror_mode": {
    "name": "ipython",
    "version": 3
   },
   "file_extension": ".py",
   "mimetype": "text/x-python",
   "name": "python",
   "nbconvert_exporter": "python",
   "pygments_lexer": "ipython3",
   "version": "3.6.3"
  }
 },
 "nbformat": 4,
 "nbformat_minor": 2
}
