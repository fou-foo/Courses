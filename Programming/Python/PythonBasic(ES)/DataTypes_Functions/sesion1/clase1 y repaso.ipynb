{
 "cells": [
  {
   "cell_type": "markdown",
   "metadata": {},
   "source": [
    "# Cosas de que platicar:\n",
    "    1. Running Python (console vs batch-script)\n",
    "    2. Diferencia con 2.7 y 3.x\n",
    "    3. Lenguajes formales y naturales:\n",
    "        * Palabras reservadas\n",
    "        * Expressions and Statements\n",
    "    4. Debugging\n",
    "        * Syntax error\n",
    "        * Runtime error (diferencia con el compilador)\n",
    "        * Semantic error\n",
    "    \n",
    "\n"
   ]
  },
  {
   "cell_type": "markdown",
   "metadata": {},
   "source": [
    "## Variables, expresiones y sentencias.\n"
   ]
  },
  {
   "cell_type": "code",
   "execution_count": 1,
   "metadata": {
    "collapsed": true
   },
   "outputs": [],
   "source": [
    "entero = 1\n",
    "palabra='string'\n",
    "numero = 3.14**10 #diferencia entre operadores '*' y '**'"
   ]
  },
  {
   "cell_type": "markdown",
   "metadata": {},
   "source": [
    "## Tipos de datos"
   ]
  },
  {
   "cell_type": "code",
   "execution_count": 7,
   "metadata": {},
   "outputs": [
    {
     "name": "stdout",
     "output_type": "stream",
     "text": [
      "<class 'int'>\n",
      "<class 'str'>\n",
      "<class 'float'>\n"
     ]
    }
   ],
   "source": [
    "print(type(entero))\n",
    "print(type(palabra ))\n",
    "print(type(numero) )"
   ]
  },
  {
   "cell_type": "code",
   "execution_count": 5,
   "metadata": {},
   "outputs": [
    {
     "data": {
      "text/plain": [
       "[100, 2, 3]"
      ]
     },
     "execution_count": 5,
     "metadata": {},
     "output_type": "execute_result"
    }
   ],
   "source": [
    "arreglo = [100,2,3] #diferencias entre tuplas y listas\n",
    "arreglo\n",
    "type(arreglo)\n",
    "################# indices\n",
    "arreglo"
   ]
  },
  {
   "cell_type": "code",
   "execution_count": 6,
   "metadata": {},
   "outputs": [
    {
     "data": {
      "text/plain": [
       "0.0111114"
      ]
     },
     "execution_count": 6,
     "metadata": {},
     "output_type": "execute_result"
    }
   ],
   "source": [
    "'Alan y foo '*2\n",
    "int(3.14)\n",
    "float(2)\n",
    "6/17.0 ###################nuevo en 3.x\n",
    "int('1')\n",
    "float('.0111114') # cast: cambiar el typo de dato de una variable\n",
    " # cast: cambiar el typo de dato de una variable, buscar como acceder al codigo fuente\n"
   ]
  },
  {
   "cell_type": "code",
   "execution_count": 10,
   "metadata": {
    "collapsed": true
   },
   "outputs": [],
   "source": [
    "a = 'anita'\n",
    "len(a)\n",
    "len(arreglo)\n",
    "#len(entero) error\n",
    "am = 7\n",
    "a3 = entero + entero*2"
   ]
  },
  {
   "cell_type": "markdown",
   "metadata": {},
   "source": [
    "Entonces en python tenemos los siguientes tipos primitivos de datos:\n",
    "    * Enteros ('int')\n",
    "    * Numeros de aritmetica flotante ('float')\n",
    "    * Strings ('s')\n",
    "    * Bolleanos 'True' y 'False'\n",
    "    \n",
    "Los operadores binarios son los usuales:\n",
    "    * '+' Que actua diferente con 'str' y con números.\n",
    "    * '-'\n",
    "    * '*'\n",
    "    * '**' Potancia, se recomienda este simbolo en lugar del '^' pues este ultimo es para operaciones de bits\n",
    "    * '/' En python3 la división entre dos enteros ya no se redondea a diferencia de python2\n",
    "\n",
    "La procedencia de operadores es la usual, las de mayor nivel son la potencia, le siguen las multiplicaciones y divisiones y por\n",
    "al último las sumas (como en el álgebra de secundaria), siempre podemos usar parentesís para alterar este orden.\n",
    "\n",
    "Recuerda la técnica PEMDAS (Parentheses, Exponentiation, Multiplication, Division, Addition y Subtraction).\n",
    "El interprete lee de izquierda a derecha.\n",
    "\n"
   ]
  },
  {
   "cell_type": "code",
   "execution_count": 7,
   "metadata": {},
   "outputs": [
    {
     "data": {
      "text/plain": [
       "0"
      ]
     },
     "execution_count": 7,
     "metadata": {},
     "output_type": "execute_result"
    }
   ],
   "source": [
    "2//9"
   ]
  },
  {
   "cell_type": "markdown",
   "metadata": {},
   "source": [
    "Cada lenguaje formal tiene palabras reservadas, las cuales no se pueden utilizar en tu código \n",
    "porque confundes al compilador!\n",
    "\n",
    "En Python3 las palabras reservadas son:\n",
    "    - False\n",
    "    - class \n",
    "    - finally \n",
    "    - is \n",
    "    - return\n",
    "    - None \n",
    "    - continue \n",
    "    - for \n",
    "    - lambda \n",
    "    - try\n",
    "    - True \n",
    "    - def \n",
    "    - from \n",
    "    - nonlocal \n",
    "    - while\n",
    "    - and \n",
    "    - del \n",
    "    - global \n",
    "    - not \n",
    "    - with\n",
    "    - as \n",
    "    - elif \n",
    "    - if \n",
    "    - or \n",
    "    - yield\n",
    "    - assert \n",
    "    - else \n",
    "    - import \n",
    "    - pass\n",
    "    - break \n",
    "    - except \n",
    "    - in \n",
    "    - raise"
   ]
  },
  {
   "cell_type": "markdown",
   "metadata": {},
   "source": [
    "Los comentarios se hacen con el simbolo '#' o si soy muy largos con '''"
   ]
  },
  {
   "cell_type": "code",
   "execution_count": 9,
   "metadata": {},
   "outputs": [
    {
     "data": {
      "text/plain": [
       "'Comentario de\\nmas de una linea, recuerda el tipeado con sangria\\nse debe de respetar'"
      ]
     },
     "execution_count": 9,
     "metadata": {},
     "output_type": "execute_result"
    }
   ],
   "source": [
    "a = 1. # inicializacion de una variable de tipo 'float'\n",
    "'''Comentario de\n",
    "mas de una linea, recuerda el tipeado con sangria\n",
    "se debe de respetar'''"
   ]
  },
  {
   "cell_type": "code",
   "execution_count": null,
   "metadata": {
    "collapsed": true
   },
   "outputs": [],
   "source": []
  }
 ],
 "metadata": {
  "kernelspec": {
   "display_name": "Python 3",
   "language": "python",
   "name": "python3"
  },
  "language_info": {
   "codemirror_mode": {
    "name": "ipython",
    "version": 3
   },
   "file_extension": ".py",
   "mimetype": "text/x-python",
   "name": "python",
   "nbconvert_exporter": "python",
   "pygments_lexer": "ipython3",
   "version": "3.6.3"
  }
 },
 "nbformat": 4,
 "nbformat_minor": 2
}
